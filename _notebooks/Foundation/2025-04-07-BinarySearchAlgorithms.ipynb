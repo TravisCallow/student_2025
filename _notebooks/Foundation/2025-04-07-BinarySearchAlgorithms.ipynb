{
 "cells": [
  {
   "cell_type": "markdown",
   "metadata": {
    "vscode": {
     "languageId": "plaintext"
    }
   },
   "source": [
    "---\n",
    "layout: post\n",
    "title: Binary Search Algorithm\n",
    "description: Computing stuff\n",
    "type: issues\n",
    "comments: True\n",
    "permalink: /bsalgorithm/\n",
    "---\n"
   ]
  },
  {
   "cell_type": "markdown",
   "metadata": {
    "vscode": {
     "languageId": "plaintext"
    }
   },
   "source": [
    "## Binary Search Algorithm\n",
    "\n",
    "\n",
    "## Popcorn Hack 1\n",
    "C because the function splits the array in half and then determines where the number is but if it is unsorted then it will confuse the program.\n",
    "\n",
    "## Popcorn Hack 2\n",
    "B because every other answer is false and as mentioned above, the function is unable to sort through an unorganized list.\n",
    "\n",
    "## Popcorn Hack 3\n",
    "\n"
   ]
  },
  {
   "cell_type": "code",
   "execution_count": null,
   "metadata": {},
   "outputs": [],
   "source": [
    "def binary_search(numList, target):\n",
    "    left = 0\n",
    "    right = len(numList) - 1\n",
    "\n",
    "    while left <= right:\n",
    "        mid = (left + right) // 2\n",
    "        if numList[mid] == target:\n",
    "            return mid\n",
    "        elif numList[mid] < target:\n",
    "            left = mid + 1\n",
    "        else:\n",
    "            right = mid - 1\n",
    "\n",
    "    return -1  # Target not found\n",
    "\n",
    "# Example usage:\n",
    "letters = ['a', 'b', 'c', 'd', 'e', 'f', 'g']\n",
    "print(binary_search(letters, 'c'))  # Output: 2\n"
   ]
  },
  {
   "cell_type": "markdown",
   "metadata": {},
   "source": [
    "## Homework Hack:"
   ]
  },
  {
   "cell_type": "code",
   "execution_count": null,
   "metadata": {},
   "outputs": [],
   "source": [
    "import pandas as pd\n",
    "\n",
    "# Load the dataset\n",
    "data = pd.read_csv(\"/images/school_supplies.csv\")\n",
    "\n",
    "# Drop rows with missing values\n",
    "data_cleaned = data.dropna()\n",
    "\n",
    "# Sort the data by 'Price'\n",
    "data_sorted = data_cleaned.sort_values(by=\"Price\")\n",
    "\n",
    "# Extract sorted prices as a list\n",
    "price_list = data_sorted[\"Price\"].tolist()\n",
    "\n",
    "# Preview the sorted data\n",
    "print(\"First few rows of sorted data:\")\n",
    "print(data_sorted.head())\n",
    "print(\"Original row count:\", len(data))\n",
    "print(\"Cleaned row count:\", len(data_cleaned))\n",
    "\n",
    "# Binary search function\n",
    "def binary_search(sorted_list, target):\n",
    "    left, right = 0, len(sorted_list) - 1\n",
    "    while left <= right:\n",
    "        mid = (left + right) // 2\n",
    "        if sorted_list[mid] == target:\n",
    "            return mid\n",
    "        elif sorted_list[mid] < target:\n",
    "            left = mid + 1\n",
    "        else:\n",
    "            right = mid - 1\n",
    "    return -1  # Not found\n",
    "\n",
    "# Prices to search for\n",
    "search_prices = [1.25, 6.49, 10.00]\n",
    "\n",
    "# Perform the search and print results\n",
    "for price in search_prices:\n",
    "    index = binary_search(price_list, price)\n",
    "    if index != -1:\n",
    "        print(f\"Price ${price:.2f} found at index {index}.\")\n",
    "    else:\n",
    "        print(f\"Price ${price:.2f} not found.\")\n",
    "\n",
    "# --- Explanation ---\n",
    "\"\"\"\n",
    "This script uses Pandas to load and clean a CSV dataset of school supplies.\n",
    "It sorts the data by the 'Price' column, extracts that column into a list,\n",
    "and applies a binary search to efficiently check for specific price values.\n",
    "The results indicate whether each price exists in the sorted dataset.\n",
    "\"\"\"\n"
   ]
  }
 ],
 "metadata": {
  "language_info": {
   "name": "python"
  }
 },
 "nbformat": 4,
 "nbformat_minor": 2
}
