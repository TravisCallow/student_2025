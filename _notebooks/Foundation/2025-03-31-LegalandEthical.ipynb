{
 "cells": [
  {
   "cell_type": "markdown",
   "metadata": {
    "vscode": {
     "languageId": "plaintext"
    }
   },
   "source": [
    "---\n",
    "layout: post\n",
    "title: Legal and Ethical\n",
    "description: Computing stuff\n",
    "type: issues\n",
    "comments: True\n",
    "permalink: /legalethical/\n",
    "---\n"
   ]
  },
  {
   "cell_type": "markdown",
   "metadata": {
    "vscode": {
     "languageId": "plaintext"
    }
   },
   "source": [
    "## Legal and Ethical\n",
    "\n",
    "\n",
    "## Popcorn Hack #1\n",
    "What are some ways to protect intellectual property? Write down what you can remember in a notebook.\n",
    "\n",
    "Some ways to protect intellectual property are registering your property, watermarks, using licensing agreements, monitoring and enforcing rights, educate others, and use technology.\n",
    "\n",
    "## Popcorn Hack #2\n",
    " -   Define a MIT License\n",
    " -   What would one for your own repo look like\n",
    "\n",
    "The MIT License is an open source software license where you are able to distribute or obtain different softwares made by others.\n",
    "One for my own repo would look like game installer or something of that sorts.\n",
    "\n",
    "## Popcorn Hack #3\n",
    " -   Define a Creative Common License\n",
    " -   What are exceptions to the copyright law\n",
    "\n",
    "\n",
    "\n",
    "    Creative Commons is a public copyright license that a creator uses when they want to give others the right to use their work. \n",
    "\n",
    "    Fair Use is an exception to copyright law that allows the use of copyrighted material without permission for limited purposes, such as educational or news-reporting.\n",
    "\n",
    "## Popcorn Hack #4\n",
    "With a partner, name as many ways as you can remember to prevent copyright infringement. Write what you came up with in a jupyter notebook. Also write down who you talked to.\n",
    "\n",
    "To prevent copyright infringement, you can create licenses for your products to prevent people from copying.\n",
    "\n",
    "\n",
    "\n",
    "# HOMEWORK HACKS\n",
    "\n",
    "Apache License will allow me to create my own thing without anyone copying me. I would want to create my own games where no one is allowed to copy it. If people do copy it I should get a percentage of money they make.\n",
    "\n",
    "[Apache License](/student_2025/LICENSE)\n",
    "\n"
   ]
  }
 ],
 "metadata": {
  "language_info": {
   "name": "python"
  }
 },
 "nbformat": 4,
 "nbformat_minor": 2
}
