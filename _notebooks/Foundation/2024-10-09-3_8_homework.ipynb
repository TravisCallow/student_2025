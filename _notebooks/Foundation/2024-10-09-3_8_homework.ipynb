{
 "cells": [
  {
   "cell_type": "raw",
   "metadata": {
    "vscode": {
     "languageId": "raw"
    }
   },
   "source": [
    "---\n",
    "layout: post\n",
    "title: Sprint 1 - Objectives \n",
    "description:  Tools and Software Development for Sprint 1\n",
    "type: issues \n",
    "comments: true\n",
    "---"
   ]
  },
  {
   "cell_type": "markdown",
   "metadata": {},
   "source": [
    "# POPCORN HACK 1"
   ]
  },
  {
   "cell_type": "code",
   "execution_count": 2,
   "metadata": {},
   "outputs": [
    {
     "data": {
      "application/javascript": "\nfunction promptInput(){\n    let uName = prompt(\"Are you a student?:\");\n    uName = uName.toLowerCase();\n    if (uName === \"yes\" || uName === \"no\"){\n        if (uName === \"yes\"){\n          console.log(\"Your ticket is on a discount for \" + (10*0.8).toString() + \"!!\");\n        }else if (uName === \"no\"){\n          console.log(\"Your ticket is not discounted, it costs $10\");\n        }\n    }\n    else{\n      promptInput()\n    }\n\n    \n}\n\npromptInput()\n",
      "text/plain": [
       "<IPython.core.display.Javascript object>"
      ]
     },
     "metadata": {},
     "output_type": "display_data"
    }
   ],
   "source": [
    "%%js\n",
    "\n",
    "function promptInput(){\n",
    "    let uName = prompt(\"Are you a student?:\");\n",
    "    uName = uName.toLowerCase();\n",
    "    if (uName === \"yes\" || uName === \"no\"){\n",
    "        if (uName === \"yes\"){\n",
    "          console.log(\"Your ticket is on a discount for \" + (10*0.8).toString() + \"!!\");\n",
    "        }else if (uName === \"no\"){\n",
    "          console.log(\"Your ticket is not discounted, it costs $10\");\n",
    "        }\n",
    "    }\n",
    "    else{\n",
    "      promptInput()\n",
    "    }\n",
    "\n",
    "    \n",
    "}\n",
    "\n",
    "promptInput()"
   ]
  },
  {
   "cell_type": "markdown",
   "metadata": {},
   "source": [
    "# POPCORN HACK 2"
   ]
  },
  {
   "cell_type": "code",
   "execution_count": 3,
   "metadata": {},
   "outputs": [
    {
     "data": {
      "application/javascript": "\nfunction myFunc(){\n  let userNum = prompt(\"Pick any number: \");\n  userNum = Number(userNum)\n  if (userNum) {\n    if (userNum%2){\n      console.log(\"ODD\")\n    }else{\n      console.log(\"EVEN\")\n    }\n  }else{\n  myFunc();\n  }\n}\n\nmyFunc()\n\n",
      "text/plain": [
       "<IPython.core.display.Javascript object>"
      ]
     },
     "metadata": {},
     "output_type": "display_data"
    }
   ],
   "source": [
    "%%js\n",
    "\n",
    "function myFunc(){\n",
    "  let userNum = prompt(\"Pick any number: \");\n",
    "  userNum = Number(userNum)\n",
    "  if (userNum) {\n",
    "    if (userNum%2){\n",
    "      console.log(\"ODD\")\n",
    "    }else{\n",
    "      console.log(\"EVEN\")\n",
    "    }\n",
    "  }else{\n",
    "  myFunc();\n",
    "  }\n",
    "}\n",
    "\n",
    "myFunc()\n",
    "\n"
   ]
  }
 ],
 "metadata": {
  "kernelspec": {
   "display_name": "Python 3",
   "language": "python",
   "name": "python3"
  },
  "language_info": {
   "codemirror_mode": {
    "name": "ipython",
    "version": 3
   },
   "file_extension": ".py",
   "mimetype": "text/x-python",
   "name": "python",
   "nbconvert_exporter": "python",
   "pygments_lexer": "ipython3",
   "version": "3.10.12"
  }
 },
 "nbformat": 4,
 "nbformat_minor": 2
}
