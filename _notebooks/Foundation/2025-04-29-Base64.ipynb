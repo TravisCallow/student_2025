{
 "cells": [
  {
   "cell_type": "markdown",
   "metadata": {
    "vscode": {
     "languageId": "plaintext"
    }
   },
   "source": [
    "---\n",
    "layout: post\n",
    "title: Base 64 Encoding\n",
    "description: Computing stuff\n",
    "type: issues\n",
    "comments: True\n",
    "permalink: /basecomputing/\n",
    "---\n"
   ]
  },
  {
   "cell_type": "markdown",
   "metadata": {
    "vscode": {
     "languageId": "plaintext"
    }
   },
   "source": [
    "# Base 64 Encoding\n",
    "\n",
    "## Popcorn Hack\n",
    "A downside to base 64 is that it is not secure and can easily be decoded.\n",
    "\n",
    "## Homework Hack\n",
    "\n",
    "- What is a hex color code? What are some examples?\n",
    "- - A hex color code is using hex codes rather than rgb numbers so it would be #ffffff instead of rgb(255,255,255)\n",
    "- What is Base64 and how is it used with images?\n",
    "- - Base64 is a way to encode different things like images and text.\n",
    "- Why might you use Base64 instead of a regular image file? \n",
    "- - You might use Base64 instead of a regular image file because it is good for tiny images but bigger images are not recommended to use base64 on.\n"
   ]
  }
 ],
 "metadata": {
  "kernelspec": {
   "display_name": "Python 3",
   "language": "python",
   "name": "python3"
  },
  "language_info": {
   "codemirror_mode": {
    "name": "ipython",
    "version": 3
   },
   "file_extension": ".py",
   "mimetype": "text/x-python",
   "name": "python",
   "nbconvert_exporter": "python",
   "pygments_lexer": "ipython3",
   "version": "3.10.12"
  }
 },
 "nbformat": 4,
 "nbformat_minor": 2
}
