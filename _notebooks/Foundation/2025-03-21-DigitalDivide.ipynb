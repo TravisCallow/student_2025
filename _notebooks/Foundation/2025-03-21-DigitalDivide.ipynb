{
 "cells": [
  {
   "cell_type": "markdown",
   "metadata": {
    "vscode": {
     "languageId": "plaintext"
    }
   },
   "source": [
    "---\n",
    "layout: post\n",
    "title: Digital Divide Homework\n",
    "description: Computing stuff\n",
    "type: issues\n",
    "comments: True\n",
    "permalink: /digitaldivide/\n",
    "---\n"
   ]
  },
  {
   "cell_type": "markdown",
   "metadata": {
    "vscode": {
     "languageId": "plaintext"
    }
   },
   "source": [
    "## Digital Divide\n",
    "\n",
    "## Popcorn Hack #1\n",
    "\n",
    "Answer: B & D\n",
    "\n",
    "## Popcorn Hack #2\n",
    "\n",
    "The way I would attempt to fix the digital divide in our community would be to make everything easy to use and access. The root problem is people not understanding the technology resulting in them falling behind. Another thing to combat this would be to make computer science a basic necessity for classes so people can learn how to use this new advanced technology that will be the future of our generation.\n"
   ]
  }
 ],
 "metadata": {
  "language_info": {
   "name": "python"
  }
 },
 "nbformat": 4,
 "nbformat_minor": 2
}
