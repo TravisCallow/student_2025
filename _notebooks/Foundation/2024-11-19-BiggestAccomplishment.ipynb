{
 "cells": [
  {
   "cell_type": "markdown",
   "metadata": {},
   "source": [
    "---\n",
    "layout: post\n",
    "title: Biggest Accomplishment\n",
    "description: In-depth analysis of my biggest accomplishment of trimester one.\n",
    "type: issues\n",
    "comments: True\n",
    "---\n"
   ]
  },
  {
   "cell_type": "markdown",
   "metadata": {},
   "source": [
    "{% include biggestAccomplishment.html %}"
   ]
  }
 ],
 "metadata": {
  "language_info": {
   "name": "python"
  }
 },
 "nbformat": 4,
 "nbformat_minor": 2
}
