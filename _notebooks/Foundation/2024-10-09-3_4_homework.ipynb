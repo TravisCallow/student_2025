{
 "cells": [
  {
   "cell_type": "markdown",
   "metadata": {},
   "source": [
    "# POPCORN HACK"
   ]
  },
  {
   "cell_type": "raw",
   "metadata": {
    "vscode": {
     "languageId": "raw"
    }
   },
   "source": [
    "---\n",
    "layout: post\n",
    "title: Sprint 1 - Objectives \n",
    "description:  Tools and Software Development for Sprint 1\n",
    "type: issues \n",
    "comments: true\n",
    "---"
   ]
  },
  {
   "cell_type": "markdown",
   "metadata": {},
   "source": [
    "# POPCORN HACK"
   ]
  },
  {
   "cell_type": "code",
   "execution_count": 5,
   "metadata": {},
   "outputs": [
    {
     "data": {
      "application/javascript": "\nconst uName = prompt(\"What is your name?:\");\nconst favAnimal = prompt(\"What is your favorite animal?:\");\nconst favGame = prompt(\"What is your favorite videogame?: \")\nconst funnyThing = prompt(\"What is 9+10?:\");\n\n\nconst myList = [uName, favAnimal, favGame, funnyThing];\nconsole.log(myList);\n\n\nconst myDict = {\n    name: uName,\n    favoriteAnimal: favAnimal,\n    favoriteGame: favGame,\n    funny: funnyThing\n};\nconsole.log(myDict);\n\nif (Number(funnyThing) == 19) {\n    console.log(\"Hi, my name is \" + uName + \", I love \" + favAnimal + \", I like to play \" + favGame + \" and I am uncultured.\");\n} else if (Number(funnyThing) == 21) {\n    console.log(\"Hi, my name is \" + uName + \", I love \" + favAnimal + \", I like to play \" + favGame + \" and I am cultured.\");\n} else {\n    console.log(\"Hi, my name is \" + uName + \", I love \" + favAnimal + \", I like to play \" + favGame + \" and I am dumb.\");\n}\n\nconsole.log(\"Hi, my name is \" + var1 + \", I'm \" + var2 + \" years old, and my favorite brawler is \" + var3 + \".\");\n",
      "text/plain": [
       "<IPython.core.display.Javascript object>"
      ]
     },
     "metadata": {},
     "output_type": "display_data"
    }
   ],
   "source": [
    "%%js\n",
    "\n",
    "const uName = prompt(\"What is your name?:\");\n",
    "const favAnimal = prompt(\"What is your favorite animal?:\");\n",
    "const favGame = prompt(\"What is your favorite videogame?: \")\n",
    "const funnyThing = prompt(\"What is 9+10?:\");\n",
    "\n",
    "\n",
    "const myList = [uName, favAnimal, favGame, funnyThing];\n",
    "console.log(myList);\n",
    "\n",
    "\n",
    "const myDict = {\n",
    "    name: uName,\n",
    "    favoriteAnimal: favAnimal,\n",
    "    favoriteGame: favGame,\n",
    "    funny: funnyThing\n",
    "};\n",
    "console.log(myDict);\n",
    "\n",
    "if (Number(funnyThing) == 19) {\n",
    "    console.log(\"Hi, my name is \" + uName + \", I love \" + favAnimal + \", I like to play \" + favGame + \" and I am uncultured.\");\n",
    "} else if (Number(funnyThing) == 21) {\n",
    "    console.log(\"Hi, my name is \" + uName + \", I love \" + favAnimal + \", I like to play \" + favGame + \" and I am cultured.\");\n",
    "} else {\n",
    "    console.log(\"Hi, my name is \" + uName + \", I love \" + favAnimal + \", I like to play \" + favGame + \" and I am dumb.\");\n",
    "}\n"
   ]
  },
  {
   "cell_type": "markdown",
   "metadata": {},
   "source": [
    "# HOMEWORK HACK"
   ]
  },
  {
   "cell_type": "code",
   "execution_count": 1,
   "metadata": {},
   "outputs": [
    {
     "data": {
      "application/javascript": "\nconst full_name = \"Skibidi Toilet\"\nconst dob = \"06/09/2023\"\nconst email = \"skibidi.toilet@gmail.com\"\nconst sport = \"Football\"\nconst personality = \"Sigma\"\n\ninitials = full_name.charAt(0) + full_name.charAt(1) + full_name.charAt(full_name.find(\" \") + 1) + full_name.charAt(full_name.find(\" \") + 2) \nunique_id = email.length() + initials + string.replace('/', '');\n\nformatted_info = \"Personal Info:\\n\" \n                 \"- Full Name: \" + full_name + \"\\n\"\n                 \"- Date of Birth: \" + dob + \"\\n\" \n                 \"- Email: \" + email + \"\\n\" \n                 \"- Sport: \" + sport + \"\\n\" \n                 \"- Personality: \" + personality + \"\\n\" \n                 \"- Unique ID: \" + unique_id\n\nprint(formatted_info)\n\n",
      "text/plain": [
       "<IPython.core.display.Javascript object>"
      ]
     },
     "metadata": {},
     "output_type": "display_data"
    }
   ],
   "source": [
    "%%js\n",
    "\n",
    "const full_name = \"Skibidi Toilet\"\n",
    "const dob = \"06/09/2023\"\n",
    "const email = \"skibidi.toilet@gmail.com\"\n",
    "const sport = \"Football\"\n",
    "const personality = \"Sigma\"\n",
    "\n",
    "initials = full_name.charAt(0) + full_name.charAt(1) + full_name.charAt(full_name.indexOf(\" \") + 1) + full_name.charAt(full_name.indexOf(\" \") + 2) \n",
    "unique_id = email.length + initials + dob.replace('/', '');\n",
    "\n",
    "formatted_info = \"Personal Info:\\n\" +\n",
    "                 \"- Full Name: \" + full_name + \"\\n\"+\n",
    "                 \"- Date of Birth: \" + dob + \"\\n\" +\n",
    "                 \"- Email: \" + email + \"\\n\" +\n",
    "                 \"- Sport: \" + sport + \"\\n\" +\n",
    "                 \"- Personality: \" + personality + \"\\n\" +\n",
    "                 \"- Unique ID: \" + unique_id\n",
    "\n",
    "console.log(formatted_info)\n",
    "\n"
   ]
  }
 ],
 "metadata": {
  "kernelspec": {
   "display_name": "Python 3",
   "language": "python",
   "name": "python3"
  },
  "language_info": {
   "codemirror_mode": {
    "name": "ipython",
    "version": 3
   },
   "file_extension": ".py",
   "mimetype": "text/x-python",
   "name": "python",
   "nbconvert_exporter": "python",
   "pygments_lexer": "ipython3",
   "version": "3.10.12"
  }
 },
 "nbformat": 4,
 "nbformat_minor": 2
}
