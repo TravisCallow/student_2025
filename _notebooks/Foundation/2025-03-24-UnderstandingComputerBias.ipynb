{
 "cells": [
  {
   "cell_type": "markdown",
   "metadata": {
    "vscode": {
     "languageId": "plaintext"
    }
   },
   "source": [
    "---\n",
    "layout: post\n",
    "title: Understanding Computer Bias\n",
    "description: Computing stuff\n",
    "type: issues\n",
    "comments: True\n",
    "permalink: /digitaldivide/\n",
    "---\n"
   ]
  },
  {
   "cell_type": "markdown",
   "metadata": {
    "vscode": {
     "languageId": "plaintext"
    }
   },
   "source": [
    "## Digital Divide\n",
    "\n",
    "## Popcorn Hack #1\n",
    "\n",
    "Skill based games may have a skilled match making and if you do super good in one of the games, you will be put into lobbies with super good people and you would fail in those lobbies.\n",
    "\n",
    "## Popcorn Hack #2\n",
    "\n",
    "AI was unable to fix my code and when I asked it to just rewrite my code entirely in an more efficient way, it did the same exact code which fixed nothing.\n",
    "\n",
    "## Popcorn Hack #3\n",
    "\n",
    "Some people may not have a good endurance or are athletic which may be hard for beginners. It also wouldn't know if people are disabled or not. To combat this issue, you can add a introduction settings screen giving the app your information on disabilities and how in-shape you are along with your weight and height. Then the website can give you proper exercises based on what you have.\n",
    "\n",
    "\n",
    "# HOMEWORK HACKS\n",
    "\n",
    "## Homework Hack #1\n",
    "\n",
    "Sometimes when I play Counter Strike, I play super good and then I end up in Global Elite lobbies which makes winning way harder. This targets people based on their skill. This is due to the skill-based match making they have implemented into their game. A solution would be to give an average on how well a player does and if they are above average, just make them play in a rank above, not 4 ranks above.\n"
   ]
  }
 ],
 "metadata": {
  "language_info": {
   "name": "python"
  }
 },
 "nbformat": 4,
 "nbformat_minor": 2
}
