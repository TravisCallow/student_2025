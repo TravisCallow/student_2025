{
 "cells": [
  {
   "cell_type": "markdown",
   "metadata": {
    "vscode": {
     "languageId": "plaintext"
    }
   },
   "source": [
    "---\n",
    "layout: post\n",
    "title: Undecidable and Decidable Problems in Computer Science\n",
    "description: Computing stuff\n",
    "type: issues\n",
    "comments: True\n",
    "permalink: /problems/\n",
    "---\n"
   ]
  },
  {
   "cell_type": "markdown",
   "metadata": {
    "vscode": {
     "languageId": "plaintext"
    }
   },
   "source": [
    "## Undecidable and Decidable Problems in Computer Science\n",
    "\n",
    "\n",
    "## Popcorn Hack 1\n",
    "False\n",
    "\n",
    "## Popcorn Hack 2\n",
    "True\n",
    "\n",
    "## Popcorn Hack 3\n",
    "D\n",
    "\n",
    "\n",
    "## Homework Hack 1\n",
    "Infinite loops and excessively long-running scripts are examples of problems related to undecidability—there’s no general way for a system to predict whether any given code will ever stop. Because of this, modern systems use practical safeguards instead of attempting to solve the halting problem. Modern systems can't predict all infinite loops, but they use timeouts, process isolation, error messages, and user control to detect and recover when something goes wrong. These are practical solutions to an undecidable problem. Web-browsers like Google Chrome and Firefox use these."
   ]
  }
 ],
 "metadata": {
  "kernelspec": {
   "display_name": "Python 3",
   "language": "python",
   "name": "python3"
  },
  "language_info": {
   "codemirror_mode": {
    "name": "ipython",
    "version": 3
   },
   "file_extension": ".py",
   "mimetype": "text/x-python",
   "name": "python",
   "nbconvert_exporter": "python",
   "pygments_lexer": "ipython3",
   "version": "3.10.12"
  }
 },
 "nbformat": 4,
 "nbformat_minor": 2
}
