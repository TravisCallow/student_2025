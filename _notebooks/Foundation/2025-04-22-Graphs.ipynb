{
 "cells": [
  {
   "cell_type": "markdown",
   "metadata": {
    "vscode": {
     "languageId": "plaintext"
    }
   },
   "source": [
    "---\n",
    "layout: post\n",
    "title: Graphs & Heuristics\n",
    "description: Computing stuff\n",
    "type: issues\n",
    "comments: True\n",
    "permalink: /graphsh/\n",
    "---\n"
   ]
  },
  {
   "cell_type": "markdown",
   "metadata": {
    "vscode": {
     "languageId": "plaintext"
    }
   },
   "source": [
    "## Graphs & Heuristics\n",
    "\n",
    "\n",
    "## Popcorn Hack 1\n",
    "False\n",
    "\n",
    "## Popcorn Hack 2\n",
    "True\n",
    "\n",
    "## Popcorn Hack 3\n",
    "True\n",
    "\n",
    "\n",
    "## Homework Hack 1\n",
    "Nodes are users/entities each one is their own node. The edges/links are the relationships/interactions between the users. A directed edge could be one person following another person but not being followed back, and an undirected edge would be both people following each other mutually. Facebook can be a real world example as its platform is modeled as a social graph. The graph helps with Friend Suggestions, Ad Targeting, etc. In summary, social networks are modeled using graphs, where users = nodes, and relationships = edges. These graphs allow platforms to understand and leverage the structure of connections. Platforms like Facebook, Twitter, LinkedIn, and Instagram heavily rely on graph theory for core features like recommendations, ranking, and network analysis"
   ]
  }
 ],
 "metadata": {
  "kernelspec": {
   "display_name": "Python 3",
   "language": "python",
   "name": "python3"
  },
  "language_info": {
   "codemirror_mode": {
    "name": "ipython",
    "version": 3
   },
   "file_extension": ".py",
   "mimetype": "text/x-python",
   "name": "python",
   "nbconvert_exporter": "python",
   "pygments_lexer": "ipython3",
   "version": "3.10.12"
  }
 },
 "nbformat": 4,
 "nbformat_minor": 2
}
