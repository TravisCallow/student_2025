{
 "cells": [
  {
   "cell_type": "raw",
   "metadata": {
    "vscode": {
     "languageId": "raw"
    }
   },
   "source": [
    "---\n",
    "layout: post\n",
    "title: 3.7 Homework\n",
    "description:  Homework for other peoples stuff\n",
    "type: issues \n",
    "comments: true\n",
    "---"
   ]
  },
  {
   "cell_type": "markdown",
   "metadata": {},
   "source": [
    "# HOMEWORK HACK"
   ]
  },
  {
   "cell_type": "code",
   "execution_count": null,
   "metadata": {},
   "outputs": [],
   "source": [
    "grade = 90\n",
    "tardies = 3\n",
    "IF grade >= 50\n",
    "    IF tardies <= 8\n",
    "        DISPLAY \"Student passes class\""
   ]
  },
  {
   "cell_type": "markdown",
   "metadata": {},
   "source": [
    "# HOMEWORK HACK"
   ]
  },
  {
   "cell_type": "code",
   "execution_count": null,
   "metadata": {},
   "outputs": [],
   "source": [
    "import random\n",
    "\n",
    "def e():\n",
    "    weight = random.randint(25,1000)\n",
    "    delivery = input(\"Standard or express speed? (You have: \"+ str(weight) + \" pounds on board)\")\n",
    "    delivery.lower()\n",
    "    if delivery == \"express\" or delivery == \"standard\":\n",
    "        if delivery == \"standard\":\n",
    "            print(\"Cost will be: \" + str((weight*0.15 + 25)))\n",
    "        elif delivery == \"express\":\n",
    "            print(\"Cost will be: \" + str((weight*0.175 + 80)))\n",
    "    \n",
    "        \n",
    "e()"
   ]
  },
  {
   "cell_type": "markdown",
   "metadata": {},
   "source": [
    "# HOMEWORK HACK"
   ]
  },
  {
   "cell_type": "code",
   "execution_count": null,
   "metadata": {},
   "outputs": [],
   "source": [
    "student = True\n",
    "age = 29\n",
    "\n",
    "if age <= 8:\n",
    "    if student == True:\n",
    "        print(\"Ticket is $\"+str(5*0.8))\n",
    "    else:\n",
    "        print(\"Ticket is $5\")\n",
    "elif age <= 16:\n",
    "    if student == True:\n",
    "        print(\"Ticket is $\"+str(10*0.8))\n",
    "    else:\n",
    "        print(\"Ticket is $10\")\n",
    "elif age <= 25:\n",
    "    if student == True:\n",
    "        print(\"Ticket is $\"+str(15*0.8))\n",
    "    else:\n",
    "        print(\"Ticket is $15\")\n",
    "if age > 25:\n",
    "    if student == True:\n",
    "        print(\"Ticket is $\"+str(10*0.8))\n",
    "    else:\n",
    "        print(\"Ticket is $10\")\n",
    "    "
   ]
  },
  {
   "cell_type": "markdown",
   "metadata": {},
   "source": [
    "# CHALLENGE HACK"
   ]
  },
  {
   "cell_type": "code",
   "execution_count": null,
   "metadata": {},
   "outputs": [],
   "source": [
    "side1 = int(input(\"Side 1 is: \"))\n",
    "side2 = int(input(\"Side 2 is: \"))\n",
    "side3 = int(input(\"Side 3 is: \"))\n",
    "\n",
    "if (side1+side2 > side3) and (side1+side3 > side2) and (side3+side2 > side1):\n",
    "    if side1==side2 and side2==side3:\n",
    "        print(\"Equilateral Triangle\")\n",
    "    elif side1==side2 or side2==side3 or side3 == side1:\n",
    "        print(\"Isocelese Triangle\")\n",
    "    else:\n",
    "        print(\"Scalene Triangle\")\n",
    "else:\n",
    "    print(\"Not valid triangle\")"
   ]
  }
 ],
 "metadata": {
  "kernelspec": {
   "display_name": "Python 3",
   "language": "python",
   "name": "python3"
  },
  "language_info": {
   "codemirror_mode": {
    "name": "ipython",
    "version": 3
   },
   "file_extension": ".py",
   "mimetype": "text/x-python",
   "name": "python",
   "nbconvert_exporter": "python",
   "pygments_lexer": "ipython3",
   "version": "3.10.12"
  }
 },
 "nbformat": 4,
 "nbformat_minor": 2
}
