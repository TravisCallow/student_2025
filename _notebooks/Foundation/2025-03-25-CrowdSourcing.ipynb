{
 "cells": [
  {
   "cell_type": "markdown",
   "metadata": {
    "vscode": {
     "languageId": "plaintext"
    }
   },
   "source": [
    "---\n",
    "layout: post\n",
    "title: Crowd Sourcing\n",
    "description: Computing stuff\n",
    "type: issues\n",
    "comments: True\n",
    "permalink: /crowdsourcing/\n",
    "---\n"
   ]
  },
  {
   "cell_type": "markdown",
   "metadata": {
    "vscode": {
     "languageId": "plaintext"
    }
   },
   "source": [
    "## Crowd Sourcing\n",
    "\n",
    "Mango: 10/10\n",
    "\n",
    "## Popcorn Hack #1\n",
    "\n",
    "I have made several spotify playlists for my friends and I to listen to.\n",
    "\n",
    "## Popcorn Hack #2\n",
    "\n",
    "Crowd sourcing may not be completely reliable as some people may be biased in a negative way or there may be some trolls giving false data.\n",
    "\n",
    "\n",
    "### MCQ\n",
    "C\n",
    "\n",
    "## Popcorn Hack #3\n",
    "\n",
    "Fortnite uses crowdsourcing for people to make their own maps for people to 1v1 each other and other things of that sorts.\n",
    "\n",
    "\n",
    "# HOMEWORK HACKS\n",
    "\n",
    "## Homework Hack #1\n",
    "\n",
    "Crowdsourcing can be used to make cool playlists to see what types of music everyone likes.\n"
   ]
  }
 ],
 "metadata": {
  "language_info": {
   "name": "python"
  }
 },
 "nbformat": 4,
 "nbformat_minor": 2
}
