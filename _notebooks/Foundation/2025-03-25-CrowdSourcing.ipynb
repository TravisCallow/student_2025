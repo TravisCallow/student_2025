{
 "cells": [
  {
   "cell_type": "markdown",
   "metadata": {
    "vscode": {
     "languageId": "plaintext"
    }
   },
   "source": [
    "---\n",
    "layout: post\n",
    "title: Crowd Sourcing\n",
    "description: Computing stuff\n",
    "type: issues\n",
    "comments: True\n",
    "permalink: /crowdsourcing/\n",
    "---\n"
   ]
  },
  {
   "cell_type": "markdown",
   "metadata": {
    "vscode": {
     "languageId": "plaintext"
    }
   },
   "source": [
    "## Crowd Sourcing\n",
    "\n",
    "Mango: 10/10\n",
    "\n",
    "## Popcorn Hack #1\n",
    "\n",
    "I have made several spotify playlists for my friends and I to listen to.\n",
    "\n",
    "## Popcorn Hack #2\n",
    "\n",
    "Crowd sourcing may not be completely reliable as some people may be biased in a negative way or there may be some trolls giving false data.\n",
    "\n",
    "\n",
    "### MCQ\n",
    "C\n",
    "\n",
    "## Popcorn Hack #3\n",
    "\n",
    "Fortnite uses crowdsourcing for people to make their own maps for people to 1v1 each other and other things of that sorts.\n",
    "\n",
    "\n",
    "# HOMEWORK HACKS\n",
    "\n",
    "## Homework Hack #1\n",
    "\n",
    "Sometimes when I play Counter Strike, I play super good and then I end up in Global Elite lobbies which makes winning way harder. This targets people based on their skill. This is due to the skill-based match making they have implemented into their game. A solution would be to give an average on how well a player does and if they are above average, just make them play in a rank above, not 4 ranks above.\n"
   ]
  }
 ],
 "metadata": {
  "language_info": {
   "name": "python"
  }
 },
 "nbformat": 4,
 "nbformat_minor": 2
}
