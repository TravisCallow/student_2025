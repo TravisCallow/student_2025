{
 "cells": [
  {
   "cell_type": "markdown",
   "metadata": {
    "vscode": {
     "languageId": "plaintext"
    }
   },
   "source": [
    "---\n",
    "layout: post\n",
    "title: Lists and Filtering Algorithms\n",
    "description: Computing stuff\n",
    "type: issues\n",
    "comments: True\n",
    "permalink: /lafAlg/\n",
    "---\n"
   ]
  },
  {
   "cell_type": "markdown",
   "metadata": {
    "vscode": {
     "languageId": "plaintext"
    }
   },
   "source": [
    "## Lists and Filtering Algorithms\n",
    "\n",
    "\n",
    "## Popcorn Hack 1\n",
    "C because the function splits the array in half and then determines where the number is but if it is unsorted then it will confuse the program."
   ]
  },
  {
   "cell_type": "code",
   "execution_count": null,
   "metadata": {},
   "outputs": [],
   "source": [
    "movies = [\"Inception\", \"The Matrix\", \"Interstellar\", \"The Dark Knight\"]\n",
    "movies[1] = \"Star Wars\"\n",
    "movies.append(\"Minecraft Movie\")\n",
    "\n",
    "print(movies)\n"
   ]
  },
  {
   "cell_type": "markdown",
   "metadata": {},
   "source": [
    "## Popcorn Hack 2"
   ]
  },
  {
   "cell_type": "code",
   "execution_count": null,
   "metadata": {},
   "outputs": [],
   "source": [
    "ages = [15, 20, 34, 16, 18, 21, 14, 19]\n",
    "legal = []\n",
    "for age in ages:\n",
    "    if age >= 18:\n",
    "        legal.append(age)\n",
    "print(legal)"
   ]
  },
  {
   "cell_type": "markdown",
   "metadata": {},
   "source": [
    "## Homework Hack 1\n",
    "\n",
    "### Complete Python List Tutorial\n",
    "- Create lists\n",
    "- Access Elements by Index\n",
    "- Appending\n",
    "- Slice Lists\n",
    "- Join Two Lists (Concatenation)\n",
    "- Reversing Lists\n",
    "\n",
    "### How to Filter Lists in Python\n",
    "- How comprehensions work\n",
    "- Advantages of list comprehensions\n",
    "- For loops\n",
    "- Filter and Lambda functions\n",
    "- Zip Functions\n",
    "- Generator Expressions"
   ]
  },
  {
   "cell_type": "markdown",
   "metadata": {},
   "source": [
    "## Homework Hack 2"
   ]
  },
  {
   "cell_type": "code",
   "execution_count": null,
   "metadata": {},
   "outputs": [],
   "source": [
    "numlist = []\n",
    "correntNums = []\n",
    "for i in range(1, 30):\n",
    "    numlist.append(i)\n",
    "for i in numlist:\n",
    "    if i % 3 == 0 and i % 5 == 1:\n",
    "        correntNums.append(i)\n",
    "print(\"Original list: \"+str(numlist))\n",
    "print(\"Updated list: \"+str(correntNums))"
   ]
  },
  {
   "cell_type": "markdown",
   "metadata": {},
   "source": [
    "## Homework Hack 3"
   ]
  },
  {
   "cell_type": "code",
   "execution_count": null,
   "metadata": {},
   "outputs": [],
   "source": [
    "minLength = 5\n",
    "def filter_long_names(names_list, min_length):\n",
    "    return [name for name in names_list if len(name) >= min_length]\n",
    "\n",
    "sample_names = [\"Amy\", \"Jonathan\", \"Eli\", \"Samantha\", \"Bob\", \"Christina\",\"Thomas\",\"Jeffery\",\"Steve\",\"Arhaan\"]\n",
    "filtered_names = filter_long_names(sample_names, minLength)\n",
    "\n",
    "print(\"Minimum Name Length: \"+str(minLength))\n",
    "print(\"Original List: \"+str(sample_names))\n",
    "print(\"Updated List: \"+str(filtered_names))\n"
   ]
  }
 ],
 "metadata": {
  "language_info": {
   "name": "python"
  }
 },
 "nbformat": 4,
 "nbformat_minor": 2
}
