{
 "cells": [
  {
   "cell_type": "raw",
   "metadata": {
    "vscode": {
     "languageId": "raw"
    }
   },
   "source": [
    "---\n",
    "layout: post\n",
    "title: 3.6 Homework\n",
    "description:  Homework for other peoples stuff\n",
    "type: issues \n",
    "comments: true\n",
    "---"
   ]
  },
  {
   "cell_type": "markdown",
   "metadata": {},
   "source": [
    "# HOMEWORK HACK"
   ]
  },
  {
   "cell_type": "code",
   "execution_count": 1,
   "metadata": {},
   "outputs": [
    {
     "data": {
      "application/javascript": "\nlet numbers = [];\nlet num1 = prompt(\"Choose a number: \");\nlet num2 = prompt(\"Choose another number: \");\n\nnum1 = Number(num1)\nnum2 = Number(num2)\n\nnumbers.push(num1);\nnumbers.push(num2);\n\nif (num1 === num2) {\n  console.log(\"The numbers are equal\");\n}else{\n  console.log(Math.min(...numbers).toString() + \" is the smallest number.\")\n  console.log(Math.max(...numbers).toString() + \" is the largest number.\")\n}\n",
      "text/plain": [
       "<IPython.core.display.Javascript object>"
      ]
     },
     "metadata": {},
     "output_type": "display_data"
    }
   ],
   "source": [
    "%%js\n",
    "\n",
    "let numbers = [];\n",
    "let num1 = prompt(\"Choose a number: \");\n",
    "let num2 = prompt(\"Choose another number: \");\n",
    "\n",
    "num1 = Number(num1)\n",
    "num2 = Number(num2)\n",
    "\n",
    "numbers.push(num1);\n",
    "numbers.push(num2);\n",
    "\n",
    "if (num1 === num2) {\n",
    "  console.log(\"The numbers are equal\");\n",
    "}else{\n",
    "  console.log(Math.min(...numbers).toString() + \" is the smallest number.\")\n",
    "  console.log(Math.max(...numbers).toString() + \" is the largest number.\")\n",
    "}\n"
   ]
  }
 ],
 "metadata": {
  "kernelspec": {
   "display_name": "Python 3",
   "language": "python",
   "name": "python3"
  },
  "language_info": {
   "codemirror_mode": {
    "name": "ipython",
    "version": 3
   },
   "file_extension": ".py",
   "mimetype": "text/x-python",
   "name": "python",
   "nbconvert_exporter": "python",
   "pygments_lexer": "ipython3",
   "version": "3.10.12"
  }
 },
 "nbformat": 4,
 "nbformat_minor": 2
}
