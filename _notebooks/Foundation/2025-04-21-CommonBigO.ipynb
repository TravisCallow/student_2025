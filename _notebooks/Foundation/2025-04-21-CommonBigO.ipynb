{
 "cells": [
  {
   "cell_type": "markdown",
   "metadata": {
    "vscode": {
     "languageId": "plaintext"
    }
   },
   "source": [
    "---\n",
    "layout: post\n",
    "title: Big O Algorithm\n",
    "description: Computing stuff\n",
    "type: issues\n",
    "comments: True\n",
    "permalink: /bigo/\n",
    "---\n"
   ]
  },
  {
   "cell_type": "markdown",
   "metadata": {
    "vscode": {
     "languageId": "plaintext"
    }
   },
   "source": [
    "## Big O\n",
    "\n",
    "\n",
    "## Popcorn Hack 1\n"
   ]
  },
  {
   "cell_type": "code",
   "execution_count": 2,
   "metadata": {},
   "outputs": [
    {
     "name": "stdout",
     "output_type": "stream",
     "text": [
      "3\n",
      "1\n",
      "2\n",
      "3\n",
      "4\n",
      "5\n"
     ]
    }
   ],
   "source": [
    "arr = [1,2,3,4,5]\n",
    "print(arr[2])\n",
    "for i in arr:\n",
    "    print(i)"
   ]
  },
  {
   "cell_type": "markdown",
   "metadata": {},
   "source": [
    "## Popcorn Hack 2"
   ]
  },
  {
   "cell_type": "code",
   "execution_count": null,
   "metadata": {},
   "outputs": [
    {
     "name": "stdout",
     "output_type": "stream",
     "text": [
      "1 1\n",
      "1 2\n",
      "1 3\n",
      "2 1\n",
      "2 2\n",
      "2 3\n",
      "3 1\n",
      "3 2\n",
      "3 3\n"
     ]
    }
   ],
   "source": [
    "arr = [1, 2, 3]\n",
    "for i in arr:\n",
    "    for j in arr:\n",
    "        print(i, j) #This is a Quadratic Time Complexity because we have two nested loops"
   ]
  },
  {
   "cell_type": "markdown",
   "metadata": {},
   "source": [
    "## Popcorn Hack 3\n",
    "1) Linearithmic Time\n",
    "2) Quadratic Time\n",
    "\n",
    "## Homework Hack"
   ]
  },
  {
   "cell_type": "code",
   "execution_count": 8,
   "metadata": {},
   "outputs": [
    {
     "name": "stdout",
     "output_type": "stream",
     "text": [
      "Linear Time\n",
      "5\n",
      "10\n",
      "15\n",
      "20\n",
      "25\n",
      " \n",
      "Quadratic Time\n",
      "5 5\n",
      "5 10\n",
      "5 15\n",
      "5 20\n",
      "5 25\n",
      "10 5\n",
      "10 10\n",
      "10 15\n",
      "10 20\n",
      "10 25\n",
      "15 5\n",
      "15 10\n",
      "15 15\n",
      "15 20\n",
      "15 25\n",
      "20 5\n",
      "20 10\n",
      "20 15\n",
      "20 20\n",
      "20 25\n",
      "25 5\n",
      "25 10\n",
      "25 15\n",
      "25 20\n",
      "25 25\n",
      " \n",
      "Binary Search\n"
     ]
    },
    {
     "data": {
      "text/plain": [
       "3"
      ]
     },
     "execution_count": 8,
     "metadata": {},
     "output_type": "execute_result"
    }
   ],
   "source": [
    "arr = [5, 10, 15, 20, 25]\n",
    "\n",
    "def linear_time(arr):\n",
    "    print(\"Linear Time\")\n",
    "    for num in arr:\n",
    "        print(num)\n",
    "linear_time(arr) # O(n) time complexity\n",
    "print(\" \")\n",
    "\n",
    "def quadratic_time(arr):\n",
    "    print(\"Quadratic Time\")\n",
    "    for i in arr:\n",
    "        for j in arr:\n",
    "            print(i, j)\n",
    "quadratic_time(arr) # O(n^2) time complexity\n",
    "print(\" \")\n",
    "\n",
    "def binary_search(arr, target):\n",
    "    print(\"Binary Search\")\n",
    "    left, right = 0, len(arr) - 1\n",
    "    while left <= right:\n",
    "        mid = (left + right) // 2\n",
    "        if arr[mid] == target:\n",
    "            return mid\n",
    "        elif arr[mid] < target:\n",
    "            left = mid + 1\n",
    "        else:\n",
    "            right = mid - 1\n",
    "    return -1 \n",
    "binary_search(arr, 20)"
   ]
  }
 ],
 "metadata": {
  "kernelspec": {
   "display_name": "Python 3",
   "language": "python",
   "name": "python3"
  },
  "language_info": {
   "codemirror_mode": {
    "name": "ipython",
    "version": 3
   },
   "file_extension": ".py",
   "mimetype": "text/x-python",
   "name": "python",
   "nbconvert_exporter": "python",
   "pygments_lexer": "ipython3",
   "version": "3.10.12"
  }
 },
 "nbformat": 4,
 "nbformat_minor": 2
}
