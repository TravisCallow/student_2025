{
 "cells": [
  {
   "cell_type": "raw",
   "metadata": {
    "vscode": {
     "languageId": "raw"
    }
   },
   "source": [
    "---\n",
    "layout: post\n",
    "title: 3.10 Homework\n",
    "description:  Homework for other peoples stuff\n",
    "type: issues \n",
    "comments: true\n",
    "---"
   ]
  },
  {
   "cell_type": "markdown",
   "metadata": {},
   "source": [
    "# POPCORN HACK 1"
   ]
  },
  {
   "cell_type": "code",
   "execution_count": 1,
   "metadata": {},
   "outputs": [
    {
     "data": {
      "application/javascript": "\nlet gameList = ['CSGO', 'Roblox', 'Fortnite', 'Rocket League', 'COD'];\n\ngameList.push('Minecraft');\n\nconsole.log(gameList);\n",
      "text/plain": [
       "<IPython.core.display.Javascript object>"
      ]
     },
     "metadata": {},
     "output_type": "display_data"
    }
   ],
   "source": [
    "%%js\n",
    "\n",
    "let gameList = ['CSGO', 'Roblox', 'Fortnite', 'Rocket League', 'COD'];\n",
    "\n",
    "gameList.push('Minecraft');\n",
    "\n",
    "console.log(gameList);"
   ]
  },
  {
   "cell_type": "markdown",
   "metadata": {},
   "source": [
    "# POPCORN HACK 2"
   ]
  },
  {
   "cell_type": "code",
   "execution_count": 2,
   "metadata": {},
   "outputs": [
    {
     "data": {
      "application/javascript": "\nlet gameList = ['CSGO', 'Roblox', 'Minecraft'];\n\nconst index = gameList.indexOf('CSGO');\n\nif (index !== -1) {\n  gameList.splice(index, 0, 'Fortnite');\n}\n\ngameList.splice(3, 1);\n\nconsole.log(gameList);\n\n",
      "text/plain": [
       "<IPython.core.display.Javascript object>"
      ]
     },
     "metadata": {},
     "output_type": "display_data"
    }
   ],
   "source": [
    "%%js\n",
    "\n",
    "let gameList = ['CSGO', 'Roblox', 'Minecraft'];\n",
    "\n",
    "const index = gameList.indexOf('CSGO');\n",
    "\n",
    "if (index !== -1) {\n",
    "  gameList.splice(index, 0, 'Fortnite');\n",
    "}\n",
    "\n",
    "gameList.splice(3, 1);\n",
    "\n",
    "console.log(gameList);\n",
    "\n"
   ]
  },
  {
   "cell_type": "markdown",
   "metadata": {},
   "source": [
    "# POPCORN HACK 3"
   ]
  },
  {
   "cell_type": "code",
   "execution_count": 3,
   "metadata": {},
   "outputs": [
    {
     "data": {
      "application/javascript": "\nlet gameList = ['CSGO', 'Roblox', 'Minecraft'];\n\ngameList[0] = \"Rocket League\"\n\nconsole.log(gameList);\n",
      "text/plain": [
       "<IPython.core.display.Javascript object>"
      ]
     },
     "metadata": {},
     "output_type": "display_data"
    }
   ],
   "source": [
    "%%js\n",
    "\n",
    "let gameList = ['CSGO', 'Roblox', 'Minecraft'];\n",
    "\n",
    "gameList[0] = \"Rocket League\"\n",
    "\n",
    "console.log(gameList);\n"
   ]
  },
  {
   "cell_type": "markdown",
   "metadata": {},
   "source": [
    "# HOMEWORK HACK"
   ]
  },
  {
   "cell_type": "code",
   "execution_count": 4,
   "metadata": {},
   "outputs": [
    {
     "data": {
      "application/javascript": "let nums = [-250,-69,1, 2, 3, 4, 5, 6, 7, 8, 9, 10, 630, 420,395];\nlet even_sum = 0;\nlet smallest_num = Math.min(...nums);\nlet biggest_num = Math.max(...nums);\n\nfor (let score of nums) {\n  \n   if (score % 2 === 0) {\n       even_sum += score; \n   }\n}\n\nconsole.log(\"Sum of even numbers in the list:\", even_sum.toString());\nconsole.log(\"Smallest number in the list is: \" + smallest_num.toString());\nconsole.log(\"Biggest number in the list is: \" + biggest_num.toString());\n",
      "text/plain": [
       "<IPython.core.display.Javascript object>"
      ]
     },
     "metadata": {},
     "output_type": "display_data"
    }
   ],
   "source": [
    "%%js\n",
    "let nums = [-250,-69,1, 2, 3, 4, 5, 6, 7, 8, 9, 10, 630, 420,395];\n",
    "let even_sum = 0;\n",
    "let smallest_num = Math.min(...nums);\n",
    "let biggest_num = Math.max(...nums);\n",
    "\n",
    "for (let score of nums) {\n",
    "  \n",
    "   if (score % 2 === 0) {\n",
    "       even_sum += score; \n",
    "   }\n",
    "}\n",
    "\n",
    "console.log(\"Sum of even numbers in the list:\", even_sum.toString());\n",
    "console.log(\"Smallest number in the list is: \" + smallest_num.toString());\n",
    "console.log(\"Biggest number in the list is: \" + biggest_num.toString());"
   ]
  }
 ],
 "metadata": {
  "kernelspec": {
   "display_name": "Python 3",
   "language": "python",
   "name": "python3"
  },
  "language_info": {
   "codemirror_mode": {
    "name": "ipython",
    "version": 3
   },
   "file_extension": ".py",
   "mimetype": "text/x-python",
   "name": "python",
   "nbconvert_exporter": "python",
   "pygments_lexer": "ipython3",
   "version": "3.10.12"
  }
 },
 "nbformat": 4,
 "nbformat_minor": 2
}
