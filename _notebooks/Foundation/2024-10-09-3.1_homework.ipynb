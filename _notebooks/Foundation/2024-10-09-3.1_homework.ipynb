{
 "cells": [
  {
   "cell_type": "markdown",
   "metadata": {},
   "source": [
    "# POPCORN HACK"
   ]
  },
  {
   "cell_type": "code",
   "execution_count": 5,
   "metadata": {},
   "outputs": [
    {
     "data": {
      "application/javascript": "\nconst uName = prompt(\"What is your name?:\");\nconst favAnimal = prompt(\"What is your favorite animal?:\");\nconst favGame = prompt(\"What is your favorite videogame?: \")\nconst funnyThing = prompt(\"What is 9+10?:\");\n\n\nconst myList = [uName, favAnimal, favGame, funnyThing];\nconsole.log(myList);\n\n\nconst myDict = {\n    name: uName,\n    favoriteAnimal: favAnimal,\n    favoriteGame: favGame,\n    funny: funnyThing\n};\nconsole.log(myDict);\n\nif (Number(funnyThing) == 19) {\n    console.log(\"Hi, my name is \" + uName + \", I love \" + favAnimal + \", I like to play \" + favGame + \" and I am uncultured.\");\n} else if (Number(funnyThing) == 21) {\n    console.log(\"Hi, my name is \" + uName + \", I love \" + favAnimal + \", I like to play \" + favGame + \" and I am cultured.\");\n} else {\n    console.log(\"Hi, my name is \" + uName + \", I love \" + favAnimal + \", I like to play \" + favGame + \" and I am dumb.\");\n}\n\nconsole.log(\"Hi, my name is \" + var1 + \", I'm \" + var2 + \" years old, and my favorite brawler is \" + var3 + \".\");\n",
      "text/plain": [
       "<IPython.core.display.Javascript object>"
      ]
     },
     "metadata": {},
     "output_type": "display_data"
    }
   ],
   "source": [
    "%%js\n",
    "\n",
    "const uName = prompt(\"What is your name?:\");\n",
    "const favAnimal = prompt(\"What is your favorite animal?:\");\n",
    "const favGame = prompt(\"What is your favorite videogame?: \")\n",
    "const funnyThing = prompt(\"What is 9+10?:\");\n",
    "\n",
    "\n",
    "const myList = [uName, favAnimal, favGame, funnyThing];\n",
    "console.log(myList);\n",
    "\n",
    "\n",
    "const myDict = {\n",
    "    name: uName,\n",
    "    favoriteAnimal: favAnimal,\n",
    "    favoriteGame: favGame,\n",
    "    funny: funnyThing\n",
    "};\n",
    "console.log(myDict);\n",
    "\n",
    "if (Number(funnyThing) == 19) {\n",
    "    console.log(\"Hi, my name is \" + uName + \", I love \" + favAnimal + \", I like to play \" + favGame + \" and I am uncultured.\");\n",
    "} else if (Number(funnyThing) == 21) {\n",
    "    console.log(\"Hi, my name is \" + uName + \", I love \" + favAnimal + \", I like to play \" + favGame + \" and I am cultured.\");\n",
    "} else {\n",
    "    console.log(\"Hi, my name is \" + uName + \", I love \" + favAnimal + \", I like to play \" + favGame + \" and I am dumb.\");\n",
    "}\n",
    "\n",
    "console.log(\"Hi, my name is \" + var1 + \", I'm \" + var2 + \" years old, and my favorite brawler is \" + var3 + \".\");"
   ]
  }
 ],
 "metadata": {
  "kernelspec": {
   "display_name": "Python 3",
   "language": "python",
   "name": "python3"
  },
  "language_info": {
   "codemirror_mode": {
    "name": "ipython",
    "version": 3
   },
   "file_extension": ".py",
   "mimetype": "text/x-python",
   "name": "python",
   "nbconvert_exporter": "python",
   "pygments_lexer": "ipython3",
   "version": "3.10.12"
  }
 },
 "nbformat": 4,
 "nbformat_minor": 2
}
