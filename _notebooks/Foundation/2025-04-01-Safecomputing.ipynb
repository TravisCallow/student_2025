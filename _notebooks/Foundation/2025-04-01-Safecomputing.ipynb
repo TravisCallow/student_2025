{
 "cells": [
  {
   "cell_type": "markdown",
   "metadata": {
    "vscode": {
     "languageId": "plaintext"
    }
   },
   "source": [
    "---\n",
    "layout: post\n",
    "title: Safe Computing\n",
    "description: Computing stuff\n",
    "type: issues\n",
    "comments: True\n",
    "permalink: /safecomputing/\n",
    "---\n"
   ]
  },
  {
   "cell_type": "markdown",
   "metadata": {
    "vscode": {
     "languageId": "plaintext"
    }
   },
   "source": [
    "## Safe Computing\n",
    "\n",
    "\n",
    "## Popcorn Hack: Identify PII\n",
    "C\n",
    "\n",
    "## Pop Quiz: Multifactor Authentication\n",
    "D\n",
    "\n",
    "## Popcorn Hack: Encryption Quiz\n",
    "B\n",
    "\n",
    "## Popcorn Hack: Password Security\n",
    "3Df*(F@t3)5 makes a password that can be guessed in 400 years. To make a secure password, you need to include symbols, random letters, and a lot of characters.\n",
    "\n",
    "\n",
    "\n",
    "# HOMEWORK HACKS\n",
    "\n",
    "Cooked on the MCQ\n"
   ]
  }
 ],
 "metadata": {
  "language_info": {
   "name": "python"
  }
 },
 "nbformat": 4,
 "nbformat_minor": 2
}
