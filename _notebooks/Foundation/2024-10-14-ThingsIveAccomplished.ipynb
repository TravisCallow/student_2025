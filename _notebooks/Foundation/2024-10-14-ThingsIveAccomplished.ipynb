{
 "cells": [
  {
   "cell_type": "markdown",
   "metadata": {},
   "source": [
    "---\n",
    "layout: post\n",
    "title: Things I'm Proud Of\n",
    "description: Everything listed in here is something I am very proud of.\n",
    "type: issues\n",
    "comments: True\n",
    "---\n"
   ]
  },
  {
   "cell_type": "markdown",
   "metadata": {},
   "source": [
    "# Accomplishments\n",
    " - Found out how to make cool styles for my pages\n",
    " - Cookie Clicker game\n",
    " - Gambling game\n",
    " - Knowing how to do most of the things assigned"
   ]
  }
 ],
 "metadata": {
  "language_info": {
   "name": "python"
  }
 },
 "nbformat": 4,
 "nbformat_minor": 2
}
