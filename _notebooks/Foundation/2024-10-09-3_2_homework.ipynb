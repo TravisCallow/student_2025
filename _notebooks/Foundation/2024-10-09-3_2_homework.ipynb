{
 "cells": [
  {
   "cell_type": "raw",
   "metadata": {
    "vscode": {
     "languageId": "raw"
    }
   },
   "source": [
    "---\n",
    "layout: post\n",
    "title: 3.2 Homework\n",
    "description:  Homework for other peoples stuff\n",
    "type: issues \n",
    "comments: true\n",
    "---"
   ]
  },
  {
   "cell_type": "markdown",
   "metadata": {},
   "source": [
    "# POPCORN HACK"
   ]
  },
  {
   "cell_type": "code",
   "execution_count": 1,
   "metadata": {},
   "outputs": [
    {
     "data": {
      "application/javascript": "\ngames = {\n    Boardgames: [\"Monopoly\", \"Sorry!\", \"Candyland\"],\n    Videogames: [\"Roblox\", \"Fortnite\", \"CS:GO\"],\n    Sports: [\"Football\", \"Soccer\", \"Tennis\"],\n}\n\nfunction print_gadgets(gadgets){\n  for (const [key, value] of Object.entries(gadgets)){\n    console.log(\"VVV-\",key,\"-VVV\");\n    let i = 0;\n    while (i < value.length) {\n        console.log(value[i]);\n        i++;\n    }\n    console.log(\"---------------\")\n  }\n}\n\nprint_gadgets(games);\n",
      "text/plain": [
       "<IPython.core.display.Javascript object>"
      ]
     },
     "metadata": {},
     "output_type": "display_data"
    }
   ],
   "source": [
    "%%js\n",
    "\n",
    "games = {\n",
    "    Boardgames: [\"Monopoly\", \"Sorry!\", \"Candyland\"],\n",
    "    Videogames: [\"Roblox\", \"Fortnite\", \"CS:GO\"],\n",
    "    Sports: [\"Football\", \"Soccer\", \"Tennis\"],\n",
    "}\n",
    "\n",
    "function print_gadgets(gadgets){\n",
    "  for (const [key, value] of Object.entries(gadgets)){\n",
    "    console.log(\"VVV-\",key,\"-VVV\");\n",
    "    let i = 0;\n",
    "    while (i < value.length) {\n",
    "        console.log(value[i]);\n",
    "        i++;\n",
    "    }\n",
    "    console.log(\"---------------\")\n",
    "  }\n",
    "}\n",
    "\n",
    "print_gadgets(games);"
   ]
  },
  {
   "cell_type": "markdown",
   "metadata": {},
   "source": [
    "# POPCORN HACK #2\n",
    "## Remade it in python bc I don't really know how to make it unique because you are requesting what we have done in class and we both have done the same thing in class"
   ]
  },
  {
   "cell_type": "code",
   "execution_count": null,
   "metadata": {},
   "outputs": [],
   "source": [
    "%%js\n",
    "sprints = {\n",
    "    Sprint1: ['Frontend Development', 'Github Pages Playground', 'Javascript Playground'],\n",
    "    Sprint2: ['Big Ideas 3.2']\n",
    "}\n",
    "\n",
    "console.log(sprints['Sprint1'])\n",
    "if (sprints['Sprint1'].includes(\"Frontend Development\")){\n",
    "    console.log(true) \n",
    "}else{\n",
    "    console.log(false)\n",
    "}"
   ]
  },
  {
   "cell_type": "markdown",
   "metadata": {},
   "source": [
    "# HOMEWORK HACK & POPCORN HACK #3"
   ]
  },
  {
   "cell_type": "code",
   "execution_count": 2,
   "metadata": {},
   "outputs": [
    {
     "data": {
      "application/javascript": "\ngames = [\n  {\n    title: \"Roblox\",\n    description: \"Online game platform and game creation system developed by Roblox Corporation that allows users to program and play games created by themselves or other users.\",\n    price: 0,\n    Copies_Sold: 2214000000,\n    owned: true\n  },\n  {\n    title: \"CS:GO\",\n    description: \"Two teams fight against each other, one takes a site, the other prevents them.\",\n    price: 0,\n    Copies_Sold: 542000000,\n    owned: true\n  },\n  {\n    title: \"Fortnite\",\n    description: \"Fortnite is a third-person sh**ter game where up to 100 players compete to be the last person or team standing.\",\n    price: 0,\n    Copies_Sold: 350000000,\n    owned: false\n  },\n  {\n    title: \"Minecraft\",\n    description: \"Players explore a procedurally generated, three-dimensional world with virtually infinite terrain made up of voxels. \",\n    price: 30,\n    Copies_Sold: 300000000,\n    owned: true\n  },\n]\n\n\nfunction print_games(games){\n  for (const [key, value] of Object.entries(games)){\n    console.log(\"VVV-\",value.title,\"-VVV\")\n    for (const [key2, value2] of Object.entries(value)){\n      console.log();\n      console.log(key2 + \":\", value2);\n    }\n    console.log();\n    console.log(\"=---------------------=\");\n    console.log();\n  }\n}\n\nprint_games(games);\n",
      "text/plain": [
       "<IPython.core.display.Javascript object>"
      ]
     },
     "metadata": {},
     "output_type": "display_data"
    }
   ],
   "source": [
    "%%js\n",
    "\n",
    "games = [\n",
    "  {\n",
    "    title: \"Roblox\",\n",
    "    description: \"Online game platform and game creation system developed by Roblox Corporation that allows users to program and play games created by themselves or other users.\",\n",
    "    price: 0,\n",
    "    Copies_Sold: 2214000000,\n",
    "    owned: true\n",
    "  },\n",
    "  {\n",
    "    title: \"CS:GO\",\n",
    "    description: \"Two teams fight against each other, one takes a site, the other prevents them.\",\n",
    "    price: 0,\n",
    "    Copies_Sold: 542000000,\n",
    "    owned: true\n",
    "  },\n",
    "  {\n",
    "    title: \"Fortnite\",\n",
    "    description: \"Fortnite is a third-person sh**ter game where up to 100 players compete to be the last person or team standing.\",\n",
    "    price: 0,\n",
    "    Copies_Sold: 350000000,\n",
    "    owned: false\n",
    "  },\n",
    "  {\n",
    "    title: \"Minecraft\",\n",
    "    description: \"Players explore a procedurally generated, three-dimensional world with virtually infinite terrain made up of voxels. \",\n",
    "    price: 30,\n",
    "    Copies_Sold: 300000000,\n",
    "    owned: true\n",
    "  },\n",
    "]\n",
    "\n",
    "\n",
    "function print_games(games){\n",
    "  for (const [key, value] of Object.entries(games)){\n",
    "    console.log(\"VVV-\",value.title,\"-VVV\")\n",
    "    for (const [key2, value2] of Object.entries(value)){\n",
    "      console.log();\n",
    "      console.log(key2 + \":\", value2);\n",
    "    }\n",
    "    console.log();\n",
    "    console.log(\"=---------------------=\");\n",
    "    console.log();\n",
    "  }\n",
    "}\n",
    "\n",
    "print_games(games);"
   ]
  }
 ],
 "metadata": {
  "kernelspec": {
   "display_name": "Python 3",
   "language": "python",
   "name": "python3"
  },
  "language_info": {
   "codemirror_mode": {
    "name": "ipython",
    "version": 3
   },
   "file_extension": ".py",
   "mimetype": "text/x-python",
   "name": "python",
   "nbconvert_exporter": "python",
   "pygments_lexer": "ipython3",
   "version": "3.10.12"
  }
 },
 "nbformat": 4,
 "nbformat_minor": 2
}
