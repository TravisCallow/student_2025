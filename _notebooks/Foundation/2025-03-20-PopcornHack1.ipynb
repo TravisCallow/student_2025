{
 "cells": [
  {
   "cell_type": "markdown",
   "metadata": {
    "vscode": {
     "languageId": "plaintext"
    }
   },
   "source": [
    "---\n",
    "layout: post\n",
    "title: Popcorn Hacks Manas's Team\n",
    "description: Computing stuff\n",
    "type: issues\n",
    "comments: True\n",
    "permalink: /poph1Manas/\n",
    "---\n"
   ]
  },
  {
   "cell_type": "markdown",
   "metadata": {
    "vscode": {
     "languageId": "plaintext"
    }
   },
   "source": [
    "## Beneficial and Harmful Effects of Computing Innovations #1\n",
    "\n",
    "Harmful effects:\n",
    "- Cyberbullying\n",
    "- - People may be harrassed online which may result in mental issues in the victim and can possibly cause suicide.\n",
    "- Breach of Privacy\n",
    "- - Some things may breach someone's privacy like using drones to go into someone's house or outside to spy.\n",
    "\n",
    "\n",
    "Benefits:\n",
    "- Enhanced Business\n",
    "- - Allows you to create good businesses that can sell items online and in person and allows you to manage many different things at once.\n",
    "- Artistic Creative Expansion\n",
    "- - The use of apps like Photoshop allow the user to be creative and make amazing works of art and can even have a job off of these sources.\n",
    "\n",
    "## Popcorn Hack #2\n",
    "\n",
    "The negative effects of technology are the downsides and the problems technology causes. We can program accessibility options for those who have problems like dyslexia and epilepsy. We can also add moderation to websites that allow people to express their opinions which will decrease if not eliminate cyber bullying.\n",
    "\n",
    "## Popcorn Hack #3\n",
    "Its important to understand the unintended consequences of technology, especially dopamine-driven technology because it allows you to know what is at risk when using technologies and makes you wonder if you should continue doing these technologies.\n",
    "\n",
    "\n",
    "\n",
    "# HOMEWORK HACKS\n",
    "\n",
    "## Homework Hack #1\n",
    "\n",
    "AI can be used to revolutionize the means of production\n",
    "It can allow people to produce items without any workers\n",
    "This can remove jobs and excess spending on the companies, only needing electricity to run intelligent robots that can manufacture any goods.\n",
    "This may be bad because it will get rid of jobs but it will be good for the companies.\n",
    "\n",
    "## Homework Hack #2\n",
    "\n",
    "AI has caused impersonation in celebrities and many other people\n",
    "This is a big problem and can potentially cause political problems which may lead to wars.\n",
    "This is because people are able to make others say something that they really didn't say\n",
    "It has and can cause major problems in relationships\n",
    "AI is very dangerous and should be monitored and cautiously used.\n",
    "\n",
    "## Homework Hack #3\n",
    "\n",
    "In an effort to enhance student safety and address mental health concerns, schools across the United States have implemented AI-powered surveillance tools, such as Gaggle, to monitor students' online activities on school-issued devices. These efforts however breach the student's privacy and can be a concern for both the child and the parents. Some people arent even sure if it is effective."
   ]
  }
 ],
 "metadata": {
  "language_info": {
   "name": "python"
  }
 },
 "nbformat": 4,
 "nbformat_minor": 2
}
