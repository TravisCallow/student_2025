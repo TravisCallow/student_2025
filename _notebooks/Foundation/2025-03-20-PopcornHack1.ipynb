{
 "cells": [
  {
   "cell_type": "markdown",
   "metadata": {
    "vscode": {
     "languageId": "plaintext"
    }
   },
   "source": [
    "---\n",
    "layout: post\n",
    "title: Popcorn Hack 1: Manas's Team\n",
    "description: Computing stuff\n",
    "type: issues\n",
    "comments: True\n",
    "permalink: /poph1Manas\n",
    "---\n"
   ]
  },
  {
   "cell_type": "markdown",
   "metadata": {
    "vscode": {
     "languageId": "plaintext"
    }
   },
   "source": [
    "## Beneficial and Harmful Effects of Computing Innovations \n",
    "\n",
    "Harmful effects:\n",
    "- Cyberbullying\n",
    "- - People may be harrassed online which may result in mental issues in the victim and can possibly cause suicide.\n",
    "\n",
    "\n",
    "Benefits:\n",
    "- Enhanced Business\n",
    "- - Allows you to create good businesses that can sell items online and in person and allows you to manage many different things at once.\n",
    "- Artistic Creative Expansion\n",
    "- - The use of apps like Photoshop allow the user to be creative and make amazing works of art and can even have a job off of these sources."
   ]
  }
 ],
 "metadata": {
  "language_info": {
   "name": "python"
  }
 },
 "nbformat": 4,
 "nbformat_minor": 2
}
