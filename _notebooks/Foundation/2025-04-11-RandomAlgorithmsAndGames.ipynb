{
 "cells": [
  {
   "cell_type": "markdown",
   "metadata": {
    "vscode": {
     "languageId": "plaintext"
    }
   },
   "source": [
    "---\n",
    "layout: post\n",
    "title: Random Algorithms and Games\n",
    "description: Computing stuff\n",
    "type: issues\n",
    "comments: True\n",
    "permalink: /raag/\n",
    "---\n"
   ]
  },
  {
   "cell_type": "markdown",
   "metadata": {
    "vscode": {
     "languageId": "plaintext"
    }
   },
   "source": [
    "## Random Algorithms\n",
    "\n",
    "\n",
    "## Popcorn Hack 1\n",
    "A random algorithm is something where an algorithm is randomized.\n",
    "\n",
    "## Popcorn Hack 2"
   ]
  },
  {
   "cell_type": "code",
   "execution_count": null,
   "metadata": {},
   "outputs": [],
   "source": [
    "\n",
    "\n",
    "# Popcorn Hack Number 2 (Random): Make a random algorithm to choose a daily activity:\n",
    "import random\n",
    "# Step 1: Define a list of activities\n",
    "activities = ['Play football', 'Play video games', 'Code a lot', 'Grab boba', 'Watch a movie', 'Take a nap', 'Go for a run', 'Write in a journal', 'Meditate', 'Listen to music', 'Be productive and do your homework']\n",
    "# Step 2: Randomly choose an activity\n",
    "random_activity = random.choice(activities)\n",
    "# Step 3: Display the chosen activity\n",
    "print(f\"Today’s random activity: {random_activity}\")\n",
    "\n"
   ]
  },
  {
   "cell_type": "markdown",
   "metadata": {},
   "source": [
    "## Popcorn Hack 3"
   ]
  },
  {
   "cell_type": "code",
   "execution_count": null,
   "metadata": {},
   "outputs": [],
   "source": [
    "\n",
    "\n",
    "# Popcorn Hack Number 3: Using a loops in random\n",
    "# This popcorn hack assigns an activity to each person\n",
    "import random\n",
    "hosts = ['Travis', 'Rutvick', 'Michelle', 'Mihir', 'Claire', 'Ava']\n",
    "activities = ['videogames', 'football', 'coding', 'spikeball', 'karaoke']\n",
    "# Randomly shuffle the list of activities to assign them randomly to the guests\n",
    "random.shuffle(activities)\n",
    "# Loop through each guest and assign them a random activity\n",
    "for i in range(len(hosts)):\n",
    "    print(f\"{hosts[i]} will be monitoring {activities[i]}!\")\n",
    "\n"
   ]
  },
  {
   "cell_type": "markdown",
   "metadata": {},
   "source": [
    "# Simulation Lesson\n",
    "\n",
    "## Popcorn Hack 1"
   ]
  },
  {
   "cell_type": "code",
   "execution_count": null,
   "metadata": {},
   "outputs": [],
   "source": [
    "import random\n",
    "\n",
    "maxNum = 100\n",
    "minNum = 12\n",
    "\n",
    "def randomNum():\n",
    "    return random.randint(minNum, maxNum)\n",
    "\n",
    "selectNum = randomNum()\n",
    "print(\"Number:\", selectNum)"
   ]
  },
  {
   "cell_type": "markdown",
   "metadata": {},
   "source": [
    "# Popcorn Hack 2"
   ]
  },
  {
   "cell_type": "code",
   "execution_count": 1,
   "metadata": {},
   "outputs": [
    {
     "name": "stdout",
     "output_type": "stream",
     "text": [
      "Computer chose: paper\n",
      "You chose: rock\n",
      "You lose!\n"
     ]
    }
   ],
   "source": [
    "import random\n",
    "\n",
    "def play_rock_paper_scissors():\n",
    "    choices = ['rock', 'paper', 'scissors']\n",
    "    computer_choice = random.choice(choices)\n",
    "    user_choice = input(\"Enter your choice (rock, paper, or scissors): \")\n",
    "\n",
    "    if user_choice not in choices:\n",
    "        print(\"Invalid choice. Please try again.\")\n",
    "        return\n",
    "\n",
    "    print(\"Computer chose:\", computer_choice)\n",
    "    print(\"You chose:\", user_choice)\n",
    "\n",
    "    if user_choice == computer_choice:\n",
    "        print(\"It's a tie!\")\n",
    "    elif (user_choice == 'rock' and computer_choice == 'scissors') or (user_choice == 'paper' and computer_choice == 'rock') or (user_choice == 'scissors' and computer_choice == 'paper'):\n",
    "        print(\"You win!\")\n",
    "    else:\n",
    "        print(\"You lose!\")\n",
    "\n",
    "play_rock_paper_scissors()"
   ]
  },
  {
   "cell_type": "markdown",
   "metadata": {},
   "source": [
    "## Homework Hack 1\n",
    "\n",
    "### Complete Python List Tutorial\n",
    "- Create lists\n",
    "- Access Elements by Index\n",
    "- Appending\n",
    "- Slice Lists\n",
    "- Join Two Lists (Concatenation)\n",
    "- Reversing Lists\n",
    "\n",
    "### How to Filter Lists in Python\n",
    "- How comprehensions work\n",
    "- Advantages of list comprehensions\n",
    "- For loops\n",
    "- Filter and Lambda functions\n",
    "- Zip Functions\n",
    "- Generator Expressions"
   ]
  },
  {
   "cell_type": "markdown",
   "metadata": {},
   "source": [
    "## Homework Hack 2"
   ]
  },
  {
   "cell_type": "code",
   "execution_count": null,
   "metadata": {},
   "outputs": [],
   "source": [
    "numlist = []\n",
    "correntNums = []\n",
    "for i in range(1, 30):\n",
    "    numlist.append(i)\n",
    "for i in numlist:\n",
    "    if i % 3 == 0 and i % 5 == 1:\n",
    "        correntNums.append(i)\n",
    "print(\"Original list: \"+str(numlist))\n",
    "print(\"Updated list: \"+str(correntNums))"
   ]
  },
  {
   "cell_type": "markdown",
   "metadata": {},
   "source": [
    "## Homework Hack 3"
   ]
  },
  {
   "cell_type": "code",
   "execution_count": null,
   "metadata": {},
   "outputs": [],
   "source": [
    "minLength = 5\n",
    "def filter_long_names(names_list, min_length):\n",
    "    return [name for name in names_list if len(name) >= min_length]\n",
    "\n",
    "sample_names = [\"Amy\", \"Jonathan\", \"Eli\", \"Samantha\", \"Bob\", \"Christina\",\"Thomas\",\"Jeffery\",\"Steve\",\"Arhaan\"]\n",
    "filtered_names = filter_long_names(sample_names, minLength)\n",
    "\n",
    "print(\"Minimum Name Length: \"+str(minLength))\n",
    "print(\"Original List: \"+str(sample_names))\n",
    "print(\"Updated List: \"+str(filtered_names))\n"
   ]
  }
 ],
 "metadata": {
  "kernelspec": {
   "display_name": "Python 3",
   "language": "python",
   "name": "python3"
  },
  "language_info": {
   "codemirror_mode": {
    "name": "ipython",
    "version": 3
   },
   "file_extension": ".py",
   "mimetype": "text/x-python",
   "name": "python",
   "nbconvert_exporter": "python",
   "pygments_lexer": "ipython3",
   "version": "3.10.12"
  }
 },
 "nbformat": 4,
 "nbformat_minor": 2
}
