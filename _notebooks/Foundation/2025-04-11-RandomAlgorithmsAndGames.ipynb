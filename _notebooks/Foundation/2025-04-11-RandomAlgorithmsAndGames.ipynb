{
 "cells": [
  {
   "cell_type": "markdown",
   "metadata": {
    "vscode": {
     "languageId": "plaintext"
    }
   },
   "source": [
    "---\n",
    "layout: post\n",
    "title: Random Algorithms and Games\n",
    "description: Computing stuff\n",
    "type: issues\n",
    "comments: True\n",
    "permalink: /raag/\n",
    "---\n"
   ]
  },
  {
   "cell_type": "markdown",
   "metadata": {
    "vscode": {
     "languageId": "plaintext"
    }
   },
   "source": [
    "## Random Algorithms\n",
    "\n",
    "\n",
    "## Popcorn Hack 1\n",
    "A random algorithm is something where an algorithm is randomized.\n",
    "\n",
    "## Popcorn Hack 2"
   ]
  },
  {
   "cell_type": "code",
   "execution_count": null,
   "metadata": {},
   "outputs": [],
   "source": [
    "\n",
    "\n",
    "# Popcorn Hack Number 2 (Random): Make a random algorithm to choose a daily activity:\n",
    "import random\n",
    "# Step 1: Define a list of activities\n",
    "activities = ['Play football', 'Play video games', 'Code a lot', 'Grab boba', 'Watch a movie', 'Take a nap', 'Go for a run', 'Write in a journal', 'Meditate', 'Listen to music', 'Be productive and do your homework']\n",
    "# Step 2: Randomly choose an activity\n",
    "random_activity = random.choice(activities)\n",
    "# Step 3: Display the chosen activity\n",
    "print(f\"Today’s random activity: {random_activity}\")\n",
    "\n"
   ]
  },
  {
   "cell_type": "markdown",
   "metadata": {},
   "source": [
    "## Popcorn Hack 3"
   ]
  },
  {
   "cell_type": "code",
   "execution_count": null,
   "metadata": {},
   "outputs": [],
   "source": [
    "\n",
    "\n",
    "# Popcorn Hack Number 3: Using a loops in random\n",
    "# This popcorn hack assigns an activity to each person\n",
    "import random\n",
    "hosts = ['Travis', 'Rutvick', 'Michelle', 'Mihir', 'Claire', 'Ava']\n",
    "activities = ['videogames', 'football', 'coding', 'spikeball', 'karaoke']\n",
    "# Randomly shuffle the list of activities to assign them randomly to the guests\n",
    "random.shuffle(activities)\n",
    "# Loop through each guest and assign them a random activity\n",
    "for i in range(len(hosts)):\n",
    "    print(f\"{hosts[i]} will be monitoring {activities[i]}!\")\n",
    "\n"
   ]
  },
  {
   "cell_type": "markdown",
   "metadata": {},
   "source": [
    "# Simulation Lesson\n",
    "\n",
    "## Popcorn Hack 1"
   ]
  },
  {
   "cell_type": "code",
   "execution_count": null,
   "metadata": {},
   "outputs": [],
   "source": [
    "import random\n",
    "\n",
    "maxNum = 100\n",
    "minNum = 12\n",
    "\n",
    "def randomNum():\n",
    "    return random.randint(minNum, maxNum)\n",
    "\n",
    "selectNum = randomNum()\n",
    "print(\"Number:\", selectNum)"
   ]
  },
  {
   "cell_type": "markdown",
   "metadata": {},
   "source": [
    "# Popcorn Hack 2"
   ]
  },
  {
   "cell_type": "code",
   "execution_count": 1,
   "metadata": {},
   "outputs": [
    {
     "name": "stdout",
     "output_type": "stream",
     "text": [
      "Computer chose: paper\n",
      "You chose: rock\n",
      "You lose!\n"
     ]
    }
   ],
   "source": [
    "import random\n",
    "\n",
    "def play_rock_paper_scissors():\n",
    "    choices = ['rock', 'paper', 'scissors']\n",
    "    computer_choice = random.choice(choices)\n",
    "    user_choice = input(\"Enter your choice (rock, paper, or scissors): \")\n",
    "\n",
    "    if user_choice not in choices:\n",
    "        print(\"Invalid choice. Please try again.\")\n",
    "        return\n",
    "\n",
    "    print(\"Computer chose:\", computer_choice)\n",
    "    print(\"You chose:\", user_choice)\n",
    "\n",
    "    if user_choice == computer_choice:\n",
    "        print(\"It's a tie!\")\n",
    "    elif (user_choice == 'rock' and computer_choice == 'scissors') or (user_choice == 'paper' and computer_choice == 'rock') or (user_choice == 'scissors' and computer_choice == 'paper'):\n",
    "        print(\"You win!\")\n",
    "    else:\n",
    "        print(\"You lose!\")\n",
    "\n",
    "play_rock_paper_scissors()"
   ]
  },
  {
   "cell_type": "markdown",
   "metadata": {},
   "source": [
    "## Homework Hack 1\n"
   ]
  },
  {
   "cell_type": "code",
   "execution_count": 10,
   "metadata": {},
   "outputs": [
    {
     "name": "stdout",
     "output_type": "stream",
     "text": [
      "Ravens has 5 players: Timothy, Justin, Michael, Chris, Jacob\n",
      "Texans has 5 players: Thomas, Kevin, Daniel, Matthew, Joshua\n",
      "Bills has 5 players: Jeffery, David, John, Chris, Andrew\n"
     ]
    }
   ],
   "source": [
    "import random\n",
    "\n",
    "students = [\"Jeffery\", \"Thomas\", \"Timothy\", \"Justin\", \"Michael\", \"David\", \"John\", \"Chris\", \"Kevin\", \"Daniel\", \"Chris\", \"Matthew\", \"Andrew\", \"Joshua\", \"Jacob\"]\n",
    "team_names = [\"Ravens\", \"Texans\", \"Bills\"]\n",
    "teams = {team: [] for team in team_names}\n",
    "\n",
    "# Randomly assign each student to a team\n",
    "for student in students:\n",
    "    chosen_team = random.choice(team_names)\n",
    "    teams[chosen_team].append(student)\n",
    "\n",
    "# Print the number of students per team\n",
    "for team, members in teams.items():\n",
    "    print(f\"{team} has {len(members)} players: {', '.join(members)}\")\n"
   ]
  },
  {
   "cell_type": "markdown",
   "metadata": {},
   "source": [
    "## Homework Hack 2"
   ]
  },
  {
   "cell_type": "code",
   "execution_count": 12,
   "metadata": {},
   "outputs": [
    {
     "name": "stdout",
     "output_type": "stream",
     "text": [
      "Day 1 weather is: Windy\n",
      "Day 2 weather is: Snowy\n",
      "Day 3 weather is: Foggy\n",
      "Day 4 weather is: Snowy\n",
      "Day 5 weather is: Cloudy\n",
      "Day 6 weather is: Stormy\n",
      "Day 7 weather is: Snowy\n"
     ]
    }
   ],
   "source": [
    "weathers = [\"Sunny\", \"Rainy\", \"Cloudy\", \"Windy\", \"Snowy\", \"Foggy\", \"Stormy\"]\n",
    "\n",
    "for i in range(7):\n",
    "    print(\"Day \"+ str(i + 1) + \" weather is: \" + random.choice(weathers))"
   ]
  },
  {
   "cell_type": "markdown",
   "metadata": {},
   "source": [
    "## Simulation"
   ]
  },
  {
   "cell_type": "code",
   "execution_count": 14,
   "metadata": {},
   "outputs": [
    {
     "name": "stdout",
     "output_type": "stream",
     "text": [
      "Total time is: 16 minutes to serve 5 customers.\n"
     ]
    }
   ],
   "source": [
    "customers = int(input(\"How many customers enter:\"))\n",
    "time = 0\n",
    "\n",
    "for i in range(customers):\n",
    "    time += random.randint(1, 5)\n",
    "    \n",
    "print(\"Total time is: \" + str(time) + \" minutes to serve \" + str(customers) + \" customers.\")\n",
    "\n"
   ]
  }
 ],
 "metadata": {
  "kernelspec": {
   "display_name": "Python 3",
   "language": "python",
   "name": "python3"
  },
  "language_info": {
   "codemirror_mode": {
    "name": "ipython",
    "version": 3
   },
   "file_extension": ".py",
   "mimetype": "text/x-python",
   "name": "python",
   "nbconvert_exporter": "python",
   "pygments_lexer": "ipython3",
   "version": "3.10.12"
  }
 },
 "nbformat": 4,
 "nbformat_minor": 2
}
